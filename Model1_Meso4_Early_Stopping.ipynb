{
 "cells": [
  {
   "cell_type": "markdown",
   "id": "79c1e378-a5ab-4f70-8c7b-c334af526864",
   "metadata": {},
   "source": [
    "### Real is natural Disaster pre as train, val, post in test\n",
    "### DF is cycle gan generated images as train, val, test \n",
    "\n",
    "### Zhao in both with respective fake/authentic class"
   ]
  },
  {
   "cell_type": "code",
   "execution_count": 1,
   "id": "5bae05b3-931f-40d2-a539-213d88d08f80",
   "metadata": {},
   "outputs": [],
   "source": [
    "# Much of this code was based on Afchar et al (2018) example.py\n",
    "import numpy as np\n",
    "from classifiers import *\n",
    "from pipeline import *\n",
    "\n",
    "from tensorflow.keras.preprocessing.image import ImageDataGenerator"
   ]
  },
  {
   "cell_type": "code",
   "execution_count": 2,
   "id": "db426d7f-786c-49d3-8f04-80e30bc5c408",
   "metadata": {},
   "outputs": [],
   "source": [
    "classifier = Meso4()\n",
    "classifier.load('weights/Meso4_DF.h5')\n",
    "dataGenerator = ImageDataGenerator(rescale=1./255)"
   ]
  },
  {
   "cell_type": "code",
   "execution_count": 3,
   "id": "700a787d-8d74-4912-9d27-470038680d01",
   "metadata": {},
   "outputs": [
    {
     "name": "stdout",
     "output_type": "stream",
     "text": [
      "Found 6104 images belonging to 2 classes.\n",
      "Found 2035 images belonging to 2 classes.\n"
     ]
    }
   ],
   "source": [
    "# https://www.tensorflow.org/api_docs/python/tf/keras/preprocessing/image/ImageDataGenerator?msclkid=811fbc25c69711ecbaa1497e6cd8de5c\n",
    "train_generator = dataGenerator.flow_from_directory(\n",
    "        'ND_cyclegan_zhao\\\\train',\n",
    "        target_size=(256, 256),\n",
    "        batch_size=128,\n",
    "        class_mode='binary')\n",
    "\n",
    "validation_generator = dataGenerator.flow_from_directory(\n",
    "        'ND_cyclegan_zhao\\\\val',\n",
    "        target_size=(256, 256),\n",
    "        batch_size=128,\n",
    "        class_mode='binary')"
   ]
  },
  {
   "cell_type": "code",
   "execution_count": 4,
   "id": "5398c67e-f10b-43ad-b799-9eea8a1bdb64",
   "metadata": {},
   "outputs": [
    {
     "name": "stdout",
     "output_type": "stream",
     "text": [
      "Epoch 1/20\n",
      "47/47 [==============================] - 287s 6s/step - loss: 0.2123 - accuracy: 0.6797 - val_loss: 0.2972 - val_accuracy: 0.5828\n",
      "Epoch 2/20\n",
      "47/47 [==============================] - 280s 6s/step - loss: 0.1177 - accuracy: 0.8388 - val_loss: 0.4745 - val_accuracy: 0.4998\n",
      "Epoch 3/20\n",
      "47/47 [==============================] - 288s 6s/step - loss: 0.0724 - accuracy: 0.9071 - val_loss: 0.4665 - val_accuracy: 0.5307\n",
      "Epoch 4/20\n",
      "47/47 [==============================] - 280s 6s/step - loss: 0.0512 - accuracy: 0.9355 - val_loss: 0.4528 - val_accuracy: 0.5337\n",
      "Epoch 5/20\n",
      "47/47 [==============================] - 270s 6s/step - loss: 0.0442 - accuracy: 0.9459 - val_loss: 0.3516 - val_accuracy: 0.6044\n",
      "Epoch 6/20\n",
      "47/47 [==============================] - 270s 6s/step - loss: 0.0412 - accuracy: 0.9474 - val_loss: 0.2422 - val_accuracy: 0.7027\n",
      "Epoch 7/20\n",
      "47/47 [==============================] - 265s 6s/step - loss: 0.0394 - accuracy: 0.9490 - val_loss: 0.2138 - val_accuracy: 0.7160\n",
      "Epoch 8/20\n",
      "47/47 [==============================] - 279s 6s/step - loss: 0.0283 - accuracy: 0.9669 - val_loss: 0.0442 - val_accuracy: 0.9386\n",
      "Epoch 9/20\n",
      "47/47 [==============================] - 280s 6s/step - loss: 0.0234 - accuracy: 0.9721 - val_loss: 0.0358 - val_accuracy: 0.9518\n",
      "Epoch 10/20\n",
      "47/47 [==============================] - 290s 6s/step - loss: 0.0238 - accuracy: 0.9703 - val_loss: 0.1159 - val_accuracy: 0.8575\n",
      "Epoch 11/20\n",
      "47/47 [==============================] - 285s 6s/step - loss: 0.0239 - accuracy: 0.9699 - val_loss: 0.1379 - val_accuracy: 0.8423\n",
      "Epoch 12/20\n",
      "47/47 [==============================] - 276s 6s/step - loss: 0.0170 - accuracy: 0.9789 - val_loss: 0.0407 - val_accuracy: 0.9514\n",
      "Epoch 13/20\n",
      "47/47 [==============================] - 288s 6s/step - loss: 0.0195 - accuracy: 0.9764 - val_loss: 0.0633 - val_accuracy: 0.9243\n",
      "Epoch 14/20\n",
      "47/47 [==============================] - 283s 6s/step - loss: 0.0146 - accuracy: 0.9821 - val_loss: 0.0326 - val_accuracy: 0.9622\n",
      "Epoch 15/20\n",
      "47/47 [==============================] - 297s 6s/step - loss: 0.0168 - accuracy: 0.9803 - val_loss: 0.0138 - val_accuracy: 0.9823\n",
      "Epoch 16/20\n",
      "47/47 [==============================] - 290s 6s/step - loss: 0.0136 - accuracy: 0.9838 - val_loss: 0.0222 - val_accuracy: 0.9720\n",
      "Epoch 17/20\n",
      "47/47 [==============================] - 276s 6s/step - loss: 0.0131 - accuracy: 0.9839 - val_loss: 0.0395 - val_accuracy: 0.9528\n",
      "Epoch 18/20\n",
      "47/47 [==============================] - 280s 6s/step - loss: 0.0126 - accuracy: 0.9843 - val_loss: 0.0458 - val_accuracy: 0.9484\n",
      "Epoch 19/20\n",
      "47/47 [==============================] - 316s 7s/step - loss: 0.0141 - accuracy: 0.9841 - val_loss: 0.2116 - val_accuracy: 0.7612\n",
      "Epoch 20/20\n",
      "47/47 [==============================] - 298s 6s/step - loss: 0.0118 - accuracy: 0.9872 - val_loss: 0.1048 - val_accuracy: 0.8811\n"
     ]
    },
    {
     "data": {
      "text/plain": [
       "<keras.callbacks.History at 0x264916fc880>"
      ]
     },
     "execution_count": 4,
     "metadata": {},
     "output_type": "execute_result"
    }
   ],
   "source": [
    "# https://www.tensorflow.org/api_docs/python/tf/keras/preprocessing/image/ImageDataGenerator?msclkid=811fbc25c69711ecbaa1497e6cd8de5c\n",
    "# https://stackoverflow.com/questions/57967475/how-to-repeat-data-with-flow-from-directory-in-keras\n",
    "\n",
    "from tensorflow.keras.callbacks import EarlyStopping\n",
    "\n",
    "# early stopping https://keras.io/api/callbacks/early_stopping/\n",
    "callback = EarlyStopping(monitor='loss', patience=3)\n",
    "\n",
    "classifier.model.fit(train_generator, \n",
    "                     steps_per_epoch=train_generator.samples/train_generator.batch_size, \n",
    "                     epochs=20, \n",
    "                     validation_data=validation_generator, \n",
    "                     validation_steps=validation_generator.samples/validation_generator.batch_size,\n",
    "                     callbacks=[callback])"
   ]
  },
  {
   "cell_type": "code",
   "execution_count": 5,
   "id": "fb9464c5-478d-4b73-a0ad-46fec2937394",
   "metadata": {},
   "outputs": [
    {
     "name": "stdout",
     "output_type": "stream",
     "text": [
      "Found 2036 images belonging to 2 classes.\n"
     ]
    }
   ],
   "source": [
    "# post natural disaster\n",
    "\n",
    "test_generator = dataGenerator.flow_from_directory(\n",
    "        'ND_cyclegan_zhao\\\\test',\n",
    "        target_size=(256, 256),\n",
    "        batch_size=128,\n",
    "        class_mode='binary')"
   ]
  },
  {
   "cell_type": "code",
   "execution_count": 6,
   "id": "978eed69-84a5-4d60-ac92-e74eb0ee191d",
   "metadata": {},
   "outputs": [
    {
     "name": "stdout",
     "output_type": "stream",
     "text": [
      "16/16 [==============================] - 76s 5s/step - loss: 0.0820 - accuracy: 0.9028\n"
     ]
    },
    {
     "data": {
      "text/plain": [
       "[0.08202575147151947, 0.9027504920959473]"
      ]
     },
     "execution_count": 6,
     "metadata": {},
     "output_type": "execute_result"
    }
   ],
   "source": [
    "# https://www.tensorflow.org/guide/keras/train_and_evaluate\n",
    "classifier.model.evaluate(test_generator)"
   ]
  }
 ],
 "metadata": {
  "kernelspec": {
   "display_name": "Python 3 (ipykernel)",
   "language": "python",
   "name": "python3"
  },
  "language_info": {
   "codemirror_mode": {
    "name": "ipython",
    "version": 3
   },
   "file_extension": ".py",
   "mimetype": "text/x-python",
   "name": "python",
   "nbconvert_exporter": "python",
   "pygments_lexer": "ipython3",
   "version": "3.9.7"
  }
 },
 "nbformat": 4,
 "nbformat_minor": 5
}
