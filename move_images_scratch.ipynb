{
 "cells": [
  {
   "cell_type": "code",
   "execution_count": 32,
   "id": "9639c565-af66-4183-bc12-63653c231687",
   "metadata": {},
   "outputs": [],
   "source": [
    "import os\n",
    "import shutil"
   ]
  },
  {
   "cell_type": "code",
   "execution_count": 6,
   "id": "8251d59e-c40c-4af8-92d1-ad9ffa118d73",
   "metadata": {},
   "outputs": [
    {
     "data": {
      "text/plain": [
       "'S:\\\\WC_JH\\\\2_Github\\\\MesoNet'"
      ]
     },
     "execution_count": 6,
     "metadata": {},
     "output_type": "execute_result"
    }
   ],
   "source": [
    "os.getcwd()"
   ]
  },
  {
   "cell_type": "code",
   "execution_count": 3,
   "id": "7ad5979a-d38f-4331-b842-9fa60a369907",
   "metadata": {},
   "outputs": [],
   "source": [
    "source_df = 'test_images\\\\df\\\\'\n",
    "source_real = 'test_images\\\\real\\\\'\n",
    "\n",
    "dest_train_df = 'test_images\\\\train\\\\df\\\\'\n",
    "dest_train_real = 'test_images\\\\train\\\\real\\\\'\n",
    "\n",
    "dest_val_df = 'test_images\\\\val\\\\df\\\\'\n",
    "dest_val_real = 'test_images\\\\val\\\\real\\\\'\n",
    "\n",
    "dest_test_df = 'test_images\\\\test\\\\df\\\\'\n",
    "dest_test_real = 'test_images\\\\test\\\\real\\\\'"
   ]
  },
  {
   "cell_type": "code",
   "execution_count": 6,
   "id": "a80f8855-455b-4287-b2e3-6645e07a887e",
   "metadata": {},
   "outputs": [],
   "source": [
    "# https://www.w3schools.com/python/ref_random_shuffle.asp\n",
    "import random\n",
    "\n",
    "files_df = os.listdir(source_df)\n",
    "files_real = os.listdir(source_real)\n",
    "\n",
    "random.shuffle(files_df)\n",
    "random.shuffle(files_real)"
   ]
  },
  {
   "cell_type": "code",
   "execution_count": 7,
   "id": "ccda6591-a1d6-4c7f-8035-0f5ebc442ce4",
   "metadata": {},
   "outputs": [
    {
     "data": {
      "text/plain": [
       "list"
      ]
     },
     "execution_count": 7,
     "metadata": {},
     "output_type": "execute_result"
    }
   ],
   "source": [
    "type(files_df)"
   ]
  },
  {
   "cell_type": "code",
   "execution_count": 11,
   "id": "2bce26a2-db0d-4225-9418-f4c91b397a6d",
   "metadata": {},
   "outputs": [
    {
     "data": {
      "text/plain": [
       "4036.0"
      ]
     },
     "execution_count": 11,
     "metadata": {},
     "output_type": "execute_result"
    }
   ],
   "source": [
    "(4036/3)*3"
   ]
  },
  {
   "cell_type": "code",
   "execution_count": 12,
   "id": "65c7c531-51a9-46c0-bb64-15666e772ddc",
   "metadata": {},
   "outputs": [],
   "source": [
    "# https://www.geeksforgeeks.org/how-to-move-all-files-from-one-directory-to-another-using-python/\n",
    "def copy_files(allfiles, source, destination0, destination1, destination2):\n",
    "    for f in allfiles[:1345]:\n",
    "        shutil.copy(source + f, destination0 + f)\n",
    "\n",
    "    for f in allfiles[1345:2690]:\n",
    "        shutil.copy(source + f, destination1 + f)\n",
    "\n",
    "    for f in allfiles[2690:4036]:\n",
    "        shutil.copy(source + f, destination2 + f)"
   ]
  },
  {
   "cell_type": "code",
   "execution_count": 13,
   "id": "d604c1ee-d9b9-49ce-a317-8e601da24dc2",
   "metadata": {},
   "outputs": [],
   "source": [
    "copy_files(files_df, source_df, dest_train_df, dest_val_df, dest_test_df)"
   ]
  },
  {
   "cell_type": "code",
   "execution_count": 14,
   "id": "2b8382ef-bc7a-41df-b500-0db350032faa",
   "metadata": {},
   "outputs": [],
   "source": [
    "copy_files(files_real, source_real, dest_train_real, dest_val_real, dest_test_real)"
   ]
  },
  {
   "cell_type": "code",
   "execution_count": 15,
   "id": "759ca73d-3184-4db4-9112-e5fc587011c5",
   "metadata": {},
   "outputs": [
    {
     "data": {
      "text/plain": [
       "'S:\\\\WC_JH\\\\2_Github\\\\MesoNet'"
      ]
     },
     "execution_count": 15,
     "metadata": {},
     "output_type": "execute_result"
    }
   ],
   "source": [
    "os.getcwd()"
   ]
  },
  {
   "cell_type": "code",
   "execution_count": 33,
   "id": "19a8ab89-5a7a-4271-a658-65a72e588ab6",
   "metadata": {},
   "outputs": [],
   "source": [
    "ND_data = '..\\\\..\\\\0_Data\\\\xview2\\\\images_resized\\\\'\n",
    "natural_disasters = os.listdir(ND_data)"
   ]
  },
  {
   "cell_type": "code",
   "execution_count": 34,
   "id": "e98296df-830a-461a-8e02-d9342003d665",
   "metadata": {},
   "outputs": [
    {
     "data": {
      "text/html": [
       "<div>\n",
       "<style scoped>\n",
       "    .dataframe tbody tr th:only-of-type {\n",
       "        vertical-align: middle;\n",
       "    }\n",
       "\n",
       "    .dataframe tbody tr th {\n",
       "        vertical-align: top;\n",
       "    }\n",
       "\n",
       "    .dataframe thead th {\n",
       "        text-align: right;\n",
       "    }\n",
       "</style>\n",
       "<table border=\"1\" class=\"dataframe\">\n",
       "  <thead>\n",
       "    <tr style=\"text-align: right;\">\n",
       "      <th></th>\n",
       "      <th>file_name</th>\n",
       "    </tr>\n",
       "  </thead>\n",
       "  <tbody>\n",
       "    <tr>\n",
       "      <th>0</th>\n",
       "      <td>Thumbs.db</td>\n",
       "    </tr>\n",
       "    <tr>\n",
       "      <th>1</th>\n",
       "      <td>_resized_guatemala-volcano_00000003_post_disas...</td>\n",
       "    </tr>\n",
       "    <tr>\n",
       "      <th>2</th>\n",
       "      <td>_resized_guatemala-volcano_00000003_pre_disast...</td>\n",
       "    </tr>\n",
       "    <tr>\n",
       "      <th>3</th>\n",
       "      <td>_resized_guatemala-volcano_00000005_post_disas...</td>\n",
       "    </tr>\n",
       "    <tr>\n",
       "      <th>4</th>\n",
       "      <td>_resized_guatemala-volcano_00000009_post_disas...</td>\n",
       "    </tr>\n",
       "    <tr>\n",
       "      <th>...</th>\n",
       "      <td>...</td>\n",
       "    </tr>\n",
       "    <tr>\n",
       "      <th>1579</th>\n",
       "      <td>_resized_socal-fire_00001388_pre_disaster.png</td>\n",
       "    </tr>\n",
       "    <tr>\n",
       "      <th>1580</th>\n",
       "      <td>_resized_socal-fire_00001395_post_disaster.png</td>\n",
       "    </tr>\n",
       "    <tr>\n",
       "      <th>1581</th>\n",
       "      <td>_resized_socal-fire_00001395_pre_disaster.png</td>\n",
       "    </tr>\n",
       "    <tr>\n",
       "      <th>1582</th>\n",
       "      <td>_resized_socal-fire_00001400_post_disaster.png</td>\n",
       "    </tr>\n",
       "    <tr>\n",
       "      <th>1583</th>\n",
       "      <td>_resized_socal-fire_00001400_pre_disaster.png</td>\n",
       "    </tr>\n",
       "  </tbody>\n",
       "</table>\n",
       "<p>1584 rows × 1 columns</p>\n",
       "</div>"
      ],
      "text/plain": [
       "                                              file_name\n",
       "0                                             Thumbs.db\n",
       "1     _resized_guatemala-volcano_00000003_post_disas...\n",
       "2     _resized_guatemala-volcano_00000003_pre_disast...\n",
       "3     _resized_guatemala-volcano_00000005_post_disas...\n",
       "4     _resized_guatemala-volcano_00000009_post_disas...\n",
       "...                                                 ...\n",
       "1579      _resized_socal-fire_00001388_pre_disaster.png\n",
       "1580     _resized_socal-fire_00001395_post_disaster.png\n",
       "1581      _resized_socal-fire_00001395_pre_disaster.png\n",
       "1582     _resized_socal-fire_00001400_post_disaster.png\n",
       "1583      _resized_socal-fire_00001400_pre_disaster.png\n",
       "\n",
       "[1584 rows x 1 columns]"
      ]
     },
     "execution_count": 34,
     "metadata": {},
     "output_type": "execute_result"
    }
   ],
   "source": [
    "import pandas as pd\n",
    "ND = pd.DataFrame({'file_name':natural_disasters})\n",
    "ND"
   ]
  },
  {
   "cell_type": "code",
   "execution_count": 35,
   "id": "64ccd8d3-474a-4cca-a843-69b80d860315",
   "metadata": {},
   "outputs": [],
   "source": [
    "post_ND = ND[ND.file_name.str.contains('_post_')].copy()\n",
    "pre_ND = ND[ND.file_name.str.contains('_pre_')].copy()"
   ]
  },
  {
   "cell_type": "code",
   "execution_count": 11,
   "id": "de1f8244-3bdb-46a0-9fe8-2cc7083f8979",
   "metadata": {},
   "outputs": [
    {
     "data": {
      "text/html": [
       "<div>\n",
       "<style scoped>\n",
       "    .dataframe tbody tr th:only-of-type {\n",
       "        vertical-align: middle;\n",
       "    }\n",
       "\n",
       "    .dataframe tbody tr th {\n",
       "        vertical-align: top;\n",
       "    }\n",
       "\n",
       "    .dataframe thead th {\n",
       "        text-align: right;\n",
       "    }\n",
       "</style>\n",
       "<table border=\"1\" class=\"dataframe\">\n",
       "  <thead>\n",
       "    <tr style=\"text-align: right;\">\n",
       "      <th></th>\n",
       "      <th>file_name</th>\n",
       "    </tr>\n",
       "  </thead>\n",
       "  <tbody>\n",
       "    <tr>\n",
       "      <th>1</th>\n",
       "      <td>_resized_guatemala-volcano_00000003_post_disas...</td>\n",
       "    </tr>\n",
       "    <tr>\n",
       "      <th>3</th>\n",
       "      <td>_resized_guatemala-volcano_00000005_post_disas...</td>\n",
       "    </tr>\n",
       "    <tr>\n",
       "      <th>4</th>\n",
       "      <td>_resized_guatemala-volcano_00000009_post_disas...</td>\n",
       "    </tr>\n",
       "    <tr>\n",
       "      <th>6</th>\n",
       "      <td>_resized_guatemala-volcano_00000011_post_disas...</td>\n",
       "    </tr>\n",
       "    <tr>\n",
       "      <th>8</th>\n",
       "      <td>_resized_guatemala-volcano_00000021_post_disas...</td>\n",
       "    </tr>\n",
       "    <tr>\n",
       "      <th>...</th>\n",
       "      <td>...</td>\n",
       "    </tr>\n",
       "    <tr>\n",
       "      <th>1573</th>\n",
       "      <td>_resized_socal-fire_00001372_post_disaster.png</td>\n",
       "    </tr>\n",
       "    <tr>\n",
       "      <th>1576</th>\n",
       "      <td>_resized_socal-fire_00001384_post_disaster.png</td>\n",
       "    </tr>\n",
       "    <tr>\n",
       "      <th>1578</th>\n",
       "      <td>_resized_socal-fire_00001388_post_disaster.png</td>\n",
       "    </tr>\n",
       "    <tr>\n",
       "      <th>1580</th>\n",
       "      <td>_resized_socal-fire_00001395_post_disaster.png</td>\n",
       "    </tr>\n",
       "    <tr>\n",
       "      <th>1582</th>\n",
       "      <td>_resized_socal-fire_00001400_post_disaster.png</td>\n",
       "    </tr>\n",
       "  </tbody>\n",
       "</table>\n",
       "<p>785 rows × 1 columns</p>\n",
       "</div>"
      ],
      "text/plain": [
       "                                              file_name\n",
       "1     _resized_guatemala-volcano_00000003_post_disas...\n",
       "3     _resized_guatemala-volcano_00000005_post_disas...\n",
       "4     _resized_guatemala-volcano_00000009_post_disas...\n",
       "6     _resized_guatemala-volcano_00000011_post_disas...\n",
       "8     _resized_guatemala-volcano_00000021_post_disas...\n",
       "...                                                 ...\n",
       "1573     _resized_socal-fire_00001372_post_disaster.png\n",
       "1576     _resized_socal-fire_00001384_post_disaster.png\n",
       "1578     _resized_socal-fire_00001388_post_disaster.png\n",
       "1580     _resized_socal-fire_00001395_post_disaster.png\n",
       "1582     _resized_socal-fire_00001400_post_disaster.png\n",
       "\n",
       "[785 rows x 1 columns]"
      ]
     },
     "execution_count": 11,
     "metadata": {},
     "output_type": "execute_result"
    }
   ],
   "source": [
    "post_ND"
   ]
  },
  {
   "cell_type": "code",
   "execution_count": 12,
   "id": "b0603554-126d-44f9-af43-b6b8692719dd",
   "metadata": {},
   "outputs": [
    {
     "data": {
      "text/html": [
       "<div>\n",
       "<style scoped>\n",
       "    .dataframe tbody tr th:only-of-type {\n",
       "        vertical-align: middle;\n",
       "    }\n",
       "\n",
       "    .dataframe tbody tr th {\n",
       "        vertical-align: top;\n",
       "    }\n",
       "\n",
       "    .dataframe thead th {\n",
       "        text-align: right;\n",
       "    }\n",
       "</style>\n",
       "<table border=\"1\" class=\"dataframe\">\n",
       "  <thead>\n",
       "    <tr style=\"text-align: right;\">\n",
       "      <th></th>\n",
       "      <th>file_name</th>\n",
       "    </tr>\n",
       "  </thead>\n",
       "  <tbody>\n",
       "    <tr>\n",
       "      <th>2</th>\n",
       "      <td>_resized_guatemala-volcano_00000003_pre_disast...</td>\n",
       "    </tr>\n",
       "    <tr>\n",
       "      <th>5</th>\n",
       "      <td>_resized_guatemala-volcano_00000009_pre_disast...</td>\n",
       "    </tr>\n",
       "    <tr>\n",
       "      <th>7</th>\n",
       "      <td>_resized_guatemala-volcano_00000011_pre_disast...</td>\n",
       "    </tr>\n",
       "    <tr>\n",
       "      <th>9</th>\n",
       "      <td>_resized_guatemala-volcano_00000021_pre_disast...</td>\n",
       "    </tr>\n",
       "    <tr>\n",
       "      <th>11</th>\n",
       "      <td>_resized_hurricane-florence_00000004_pre_disas...</td>\n",
       "    </tr>\n",
       "    <tr>\n",
       "      <th>...</th>\n",
       "      <td>...</td>\n",
       "    </tr>\n",
       "    <tr>\n",
       "      <th>1575</th>\n",
       "      <td>_resized_socal-fire_00001378_pre_disaster.png</td>\n",
       "    </tr>\n",
       "    <tr>\n",
       "      <th>1577</th>\n",
       "      <td>_resized_socal-fire_00001384_pre_disaster.png</td>\n",
       "    </tr>\n",
       "    <tr>\n",
       "      <th>1579</th>\n",
       "      <td>_resized_socal-fire_00001388_pre_disaster.png</td>\n",
       "    </tr>\n",
       "    <tr>\n",
       "      <th>1581</th>\n",
       "      <td>_resized_socal-fire_00001395_pre_disaster.png</td>\n",
       "    </tr>\n",
       "    <tr>\n",
       "      <th>1583</th>\n",
       "      <td>_resized_socal-fire_00001400_pre_disaster.png</td>\n",
       "    </tr>\n",
       "  </tbody>\n",
       "</table>\n",
       "<p>798 rows × 1 columns</p>\n",
       "</div>"
      ],
      "text/plain": [
       "                                              file_name\n",
       "2     _resized_guatemala-volcano_00000003_pre_disast...\n",
       "5     _resized_guatemala-volcano_00000009_pre_disast...\n",
       "7     _resized_guatemala-volcano_00000011_pre_disast...\n",
       "9     _resized_guatemala-volcano_00000021_pre_disast...\n",
       "11    _resized_hurricane-florence_00000004_pre_disas...\n",
       "...                                                 ...\n",
       "1575      _resized_socal-fire_00001378_pre_disaster.png\n",
       "1577      _resized_socal-fire_00001384_pre_disaster.png\n",
       "1579      _resized_socal-fire_00001388_pre_disaster.png\n",
       "1581      _resized_socal-fire_00001395_pre_disaster.png\n",
       "1583      _resized_socal-fire_00001400_pre_disaster.png\n",
       "\n",
       "[798 rows x 1 columns]"
      ]
     },
     "execution_count": 12,
     "metadata": {},
     "output_type": "execute_result"
    }
   ],
   "source": [
    "pre_ND"
   ]
  },
  {
   "cell_type": "code",
   "execution_count": 36,
   "id": "99a85d4e-838f-4e3a-8cc8-6c45bd65ec08",
   "metadata": {},
   "outputs": [],
   "source": [
    "pre_ND = list(pre_ND.file_name)"
   ]
  },
  {
   "cell_type": "code",
   "execution_count": 37,
   "id": "13a7a7a1-de7c-4be6-a029-abc9cc695cad",
   "metadata": {},
   "outputs": [],
   "source": [
    "post_ND = list(post_ND.file_name)"
   ]
  },
  {
   "cell_type": "code",
   "execution_count": 20,
   "id": "66effac7-5fa1-4391-8cab-2679f956b30b",
   "metadata": {},
   "outputs": [],
   "source": [
    "import random\n",
    "random.shuffle(pre_ND)"
   ]
  },
  {
   "cell_type": "code",
   "execution_count": 21,
   "id": "e874b85e-a2ad-4fbb-a97a-4110ef1ed8cc",
   "metadata": {},
   "outputs": [],
   "source": [
    "# natural disaster images copied to real\n",
    "destination0 = 'natural_disaster\\\\train\\\\real\\\\'\n",
    "destination1 = 'natural_disaster\\\\val\\\\real\\\\'\n",
    "destination2 = 'natural_disaster\\\\test\\\\real\\\\'\n",
    "\n",
    "# only need 200 post natural disasters, but I'll \n",
    "for f in pre_ND[:598]:\n",
    "    shutil.copy(ND_data + f, destination0 + f)\n",
    "for f in pre_ND[598:]:\n",
    "    shutil.copy(ND_data + f, destination1 + f)\n",
    "for f in post_ND[:200]:\n",
    "    shutil.copy(ND_data + f, destination2 + f)"
   ]
  },
  {
   "cell_type": "code",
   "execution_count": 22,
   "id": "670aecd6-7375-4e74-8107-d49f587f01f5",
   "metadata": {},
   "outputs": [],
   "source": [
    "# natural disaster images copied to real\n",
    "gan = 'natural_disaster\\\\df\\\\'\n",
    "\n",
    "destination0 = 'natural_disaster\\\\train\\\\df\\\\'\n",
    "destination1 = 'natural_disaster\\\\val\\\\df\\\\'\n",
    "destination2 = 'natural_disaster\\\\test\\\\df\\\\'\n",
    "\n",
    "cyclegan = os.listdir(gan)\n",
    "random.shuffle(cyclegan)\n",
    "\n",
    "# only need 200 post natural disasters, but I'll \n",
    "for f in cyclegan[:598]:\n",
    "    shutil.copy(gan + f, destination0 + f)\n",
    "for f in cyclegan[598:798]:\n",
    "    shutil.copy(gan + f, destination1 + f)\n",
    "for f in cyclegan[798:998]:\n",
    "    shutil.copy(gan + f, destination2 + f)"
   ]
  },
  {
   "cell_type": "code",
   "execution_count": 52,
   "id": "20cc5072-b91c-4ae5-8008-72edb6dd48fd",
   "metadata": {},
   "outputs": [
    {
     "data": {
      "text/plain": [
       "785"
      ]
     },
     "execution_count": 52,
     "metadata": {},
     "output_type": "execute_result"
    }
   ],
   "source": [
    "len([x for x in post_ND if 'disaster' in x])"
   ]
  },
  {
   "cell_type": "code",
   "execution_count": 54,
   "id": "2725eb02-3894-4f3a-bc47-21e3f2d653a4",
   "metadata": {},
   "outputs": [],
   "source": [
    "# real\n",
    "zhao_real_path = '..\\\\..\\\\0_Data\\\\Zhao\\\\authentic\\\\' \n",
    "ND_path = '..\\\\..\\\\0_Data\\\\xview2\\\\images_resized\\\\' \n",
    "\n",
    "# train, val\n",
    "pre_nat_disasters = pre_ND # 798\n",
    "zhao_real = os.listdir('..\\\\..\\\\0_Data\\\\Zhao\\\\authentic\\\\') # 4000\n",
    "\n",
    "# test\n",
    "post_nat_disasters = post_ND # 785\n",
    "# with 233 zhao reals\n",
    "\n",
    "random.shuffle(zhao_real)\n",
    "# random.shuffle(pre_nat_disasters)\n",
    "\n",
    "zhao_train_val = zhao_real[233:]\n",
    "test_real = zhao_real[:233] + post_nat_disasters\n",
    "random.shuffle(test_real)\n",
    "\n",
    "train_val_real = zhao_train_val + pre_nat_disasters\n",
    "\n",
    "random.shuffle(train_val_real)\n",
    "\n",
    "train_real = train_val_real[:3054]\n",
    "val_real = train_val_real[3054:3054+1018]"
   ]
  },
  {
   "cell_type": "code",
   "execution_count": 61,
   "id": "c71ef61b-b607-422f-84b1-6b886e563caf",
   "metadata": {},
   "outputs": [],
   "source": [
    "# copy from source to real\n",
    "\n",
    "for f in train_real:\n",
    "    if 'disaster' in f:\n",
    "        source = ND_path\n",
    "    else:\n",
    "        source = zhao_real_path\n",
    "    shutil.copy(source + f, 'ND_cyclegan_zhao\\\\'+'train\\\\'+'real\\\\' + f)\n",
    "    \n",
    "for f in val_real:\n",
    "    if 'disaster' in f:\n",
    "        source = ND_path\n",
    "    else:\n",
    "        source = zhao_real_path\n",
    "    shutil.copy(source + f, 'ND_cyclegan_zhao\\\\'+'val\\\\'+'real\\\\' + f)\n",
    "    \n",
    "for f in test_real:\n",
    "    if 'disaster' in f:\n",
    "        source = ND_path\n",
    "    else:\n",
    "        source = zhao_real_path\n",
    "    shutil.copy(source + f, 'ND_cyclegan_zhao\\\\'+'test\\\\'+'real\\\\' + f)"
   ]
  },
  {
   "cell_type": "code",
   "execution_count": 63,
   "id": "f8d3c018-98e9-4b73-b952-b59afc613e76",
   "metadata": {},
   "outputs": [],
   "source": [
    "# fake\n",
    "\n",
    "zhao_fake_path = '..\\\\..\\\\0_Data\\\\Zhao\\\\fake\\\\'\n",
    "cyclegan_path = '..\\\\..\\\\1_Code\\\\predicted\\\\'\n",
    "\n",
    "# train, val\n",
    "cyclegan = os.listdir(cyclegan_path)\n",
    "zhao_fake = os.listdir(zhao_fake_path)\n",
    "\n",
    "gan_zhao = cyclegan + zhao_fake\n",
    "random.shuffle(gan_zhao)\n",
    "\n",
    "train_fake = gan_zhao[:3054]\n",
    "val_fake = gan_zhao[3054:4072]\n",
    "test_fake = gan_zhao[4072:5090]"
   ]
  },
  {
   "cell_type": "code",
   "execution_count": 70,
   "id": "1306e6d1-23ca-4e20-8533-7f9caa3c01f3",
   "metadata": {},
   "outputs": [],
   "source": [
    "for f in train_fake:\n",
    "    if 'predicted' in f:\n",
    "        source = cyclegan_path\n",
    "    else:\n",
    "        source = zhao_fake_path\n",
    "    shutil.copy(source + f, 'ND_cyclegan_zhao\\\\'+'train\\\\'+'df\\\\' + f)\n",
    "    \n",
    "for f in val_fake:\n",
    "    if 'predicted' in f:\n",
    "        source = cyclegan_path\n",
    "    else:\n",
    "        source = zhao_fake_path\n",
    "    shutil.copy(source + f, 'ND_cyclegan_zhao\\\\'+'val\\\\'+'df\\\\' + f)\n",
    "    \n",
    "for f in test_fake:\n",
    "    if 'predicted' in f:\n",
    "        source = cyclegan_path\n",
    "    else:\n",
    "        source = zhao_fake_path\n",
    "    shutil.copy(source + f, 'ND_cyclegan_zhao\\\\'+'test\\\\'+'df\\\\' + f)"
   ]
  },
  {
   "cell_type": "code",
   "execution_count": 66,
   "id": "28d9dc2b-1192-4a99-aa6c-102e34b0369c",
   "metadata": {},
   "outputs": [
    {
     "data": {
      "text/plain": [
       "1099"
      ]
     },
     "execution_count": 66,
     "metadata": {},
     "output_type": "execute_result"
    }
   ],
   "source": [
    "len(cyclegan)"
   ]
  },
  {
   "cell_type": "code",
   "execution_count": 69,
   "id": "a2e80486-a647-4d10-a0d0-afb1e429ab37",
   "metadata": {},
   "outputs": [
    {
     "data": {
      "text/plain": [
       "0"
      ]
     },
     "execution_count": 69,
     "metadata": {},
     "output_type": "execute_result"
    }
   ],
   "source": [
    "len([x for x in zhao_fake if 'predicted' in x])"
   ]
  },
  {
   "cell_type": "code",
   "execution_count": null,
   "id": "47db50c5-db63-426d-a0da-64b90f23b89f",
   "metadata": {},
   "outputs": [],
   "source": []
  }
 ],
 "metadata": {
  "kernelspec": {
   "display_name": "Python 3 (ipykernel)",
   "language": "python",
   "name": "python3"
  },
  "language_info": {
   "codemirror_mode": {
    "name": "ipython",
    "version": 3
   },
   "file_extension": ".py",
   "mimetype": "text/x-python",
   "name": "python",
   "nbconvert_exporter": "python",
   "pygments_lexer": "ipython3",
   "version": "3.9.7"
  }
 },
 "nbformat": 4,
 "nbformat_minor": 5
}
